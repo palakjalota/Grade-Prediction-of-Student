{
 "cells": [
  {
   "cell_type": "code",
   "execution_count": 10,
   "metadata": {},
   "outputs": [
    {
     "name": "stdout",
     "output_type": "stream",
     "text": [
      "  school sex  age address famsize Pstatus  Medu  Fedu     Mjob     Fjob  ...  \\\n",
      "0     GP   F   18       U     GT3       A     4     4  at_home  teacher  ...   \n",
      "1     GP   F   17       U     GT3       T     1     1  at_home    other  ...   \n",
      "\n",
      "  famrel freetime  goout  Dalc  Walc health absences G1 G2 G3  \n",
      "0      4        3      4     1     1      3        6  5  6  6  \n",
      "1      5        3      3     1     1      3        4  5  5  6  \n",
      "\n",
      "[2 rows x 33 columns]\n"
     ]
    }
   ],
   "source": [
    "import sys\n",
    "import pandas as pd\n",
    "import numpy as np \n",
    "import sklearn\n",
    "from sklearn import linear_model\n",
    "from sklearn.utils import shuffle\n",
    "import matplotlib.pyplot as plt \n",
    "from matplotlib import style\n",
    "import pickle\n",
    "path = sys.path[0]\n",
    "data  = pd.read_csv(path+\"\\\\student.csv\",sep =\";\")\n",
    "print(data.head(2))"
   ]
  },
  {
   "cell_type": "code",
   "execution_count": 19,
   "metadata": {},
   "outputs": [
    {
     "name": "stdout",
     "output_type": "stream",
     "text": [
      "   G1  G2  G3  studytime  failures  absences\n",
      "0   5   6   6          2         0         6\n",
      "1   5   5   6          2         0         4\n"
     ]
    }
   ],
   "source": [
    "#Selecting only few columns from the data frame which are relevant to the grade of a student.\n",
    "data = (data[[\"G1\", \"G2\", \"G3\", \"studytime\", \"failures\", \"absences\"]])\n",
    "print(data.head(2))"
   ]
  },
  {
   "cell_type": "code",
   "execution_count": 20,
   "metadata": {},
   "outputs": [],
   "source": [
    "# Predict value of grade3 i.e. G3 and taking all other values as features\n",
    "\n",
    "#Label\n",
    "predict = \"G3\"\n",
    "\n",
    "#Features\n",
    "x = np.array(data.drop(['G3'], 1))\n",
    "\n",
    "#Labels\n",
    "y = np.array(data[predict])\n"
   ]
  },
  {
   "cell_type": "code",
   "execution_count": 21,
   "metadata": {},
   "outputs": [],
   "source": [
    "#Splitting train and test data\n",
    "\n",
    "x_train , x_test , y_train , y_test = sklearn.model_selection.train_test_split(x,y,test_size = 0.1)"
   ]
  },
  {
   "cell_type": "code",
   "execution_count": 26,
   "metadata": {},
   "outputs": [
    {
     "name": "stdout",
     "output_type": "stream",
     "text": [
      "Accuracy    : 0.8085121787817289\n",
      "Coefficient : [ 0.15503988  0.97118047 -0.11669652 -0.24620937  0.03384369]\n",
      "Intercept   : -1.5745433509103766\n"
     ]
    }
   ],
   "source": [
    "#linear Regression Algorithm\n",
    "\n",
    "linear = linear_model.LinearRegression()\n",
    "\n",
    "linear.fit(x_train,y_train)\n",
    "acc = linear.score(x_test,y_test)\n",
    "\n",
    "print(\"Accuracy    :\" ,acc)\n",
    "\n",
    "print(\"Coefficient :\" , linear.coef_)\n",
    "print(\"Intercept   :\" ,linear.intercept_)\n",
    "\n",
    "predictions = linear.predict(x_test)"
   ]
  },
  {
   "cell_type": "code",
   "execution_count": 23,
   "metadata": {},
   "outputs": [
    {
     "data": {
      "image/png": "[encoded data removed]",
      "text/plain": [
       "<Figure size 432x288 with 1 Axes>"
      ]
     },
     "metadata": {
      "needs_background": "light"
     },
     "output_type": "display_data"
    }
   ],
   "source": [
    "#plotting \n",
    "\n",
    "plot = \"studytime\"\n",
    "plt.title(\"Grades\")\n",
    "plt.scatter(data[plot] , data[\"G3\"])\n",
    "plt.xlabel(plot)\n",
    "plt.ylabel(\"Final Grade\")\n",
    "plt.show()\n"
   ]
  }
 ],
 "metadata": {
  "kernelspec": {
   "display_name": "Python 3",
   "language": "python",
   "name": "python3"
  },
  "language_info": {
   "codemirror_mode": {
    "name": "ipython",
    "version": 3
   },
   "file_extension": ".py",
   "mimetype": "text/x-python",
   "name": "python",
   "nbconvert_exporter": "python",
   "pygments_lexer": "ipython3",
   "version": "3.7.4"
  }
 },
 "nbformat": 4,
 "nbformat_minor": 2
}
